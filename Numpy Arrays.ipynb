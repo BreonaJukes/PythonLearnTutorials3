{
 "cells": [
  {
   "cell_type": "code",
   "execution_count": 1,
   "id": "3a8f5d15",
   "metadata": {},
   "outputs": [
    {
     "name": "stdout",
     "output_type": "stream",
     "text": [
      "[179.63  214.544 209.55  204.556 189.596 194.59 ]\n"
     ]
    }
   ],
   "source": [
    "#this is the list of values\n",
    "weight_kg = [81.65, 97.52, 95.25, 92.98, 86.18, 88.45]\n",
    "\n",
    "#imports numpy\n",
    "import numpy as np\n",
    "\n",
    "#makes the weight_kg an array\n",
    "np_weight_kg = np.array(weight_kg)\n",
    "\n",
    "#this multiplies all the values by 2.2\n",
    "np_weight_lbs = np_weight_kg * 2.2\n",
    "\n",
    "#this prints the values\n",
    "print(np_weight_lbs)"
   ]
  },
  {
   "cell_type": "code",
   "execution_count": null,
   "id": "6d0059da",
   "metadata": {},
   "outputs": [],
   "source": []
  }
 ],
 "metadata": {
  "kernelspec": {
   "display_name": "Python 3 (ipykernel)",
   "language": "python",
   "name": "python3"
  },
  "language_info": {
   "codemirror_mode": {
    "name": "ipython",
    "version": 3
   },
   "file_extension": ".py",
   "mimetype": "text/x-python",
   "name": "python",
   "nbconvert_exporter": "python",
   "pygments_lexer": "ipython3",
   "version": "3.9.7"
  }
 },
 "nbformat": 4,
 "nbformat_minor": 5
}
